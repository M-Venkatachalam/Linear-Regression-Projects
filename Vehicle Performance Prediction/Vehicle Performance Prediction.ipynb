{
 "cells": [
  {
   "cell_type": "markdown",
   "id": "55184ef0",
   "metadata": {},
   "source": [
    "# Problem Statement"
   ]
  },
  {
   "cell_type": "raw",
   "id": "d72305ed",
   "metadata": {},
   "source": [
    "Use regression analysis to predict vehicle performance (mileage i.e kilometre travelled \n",
    "per litre)"
   ]
  },
  {
   "cell_type": "raw",
   "id": "a5bea83c",
   "metadata": {},
   "source": [
    "Scope:\n",
    "● Exploratory data analysis\n",
    "● Univariate and Bivariate Analysis\n",
    "● Training linear regression model with SGD for prediction"
   ]
  },
  {
   "cell_type": "markdown",
   "id": "a69bd062",
   "metadata": {},
   "source": [
    "### Import the necessary Packages"
   ]
  },
  {
   "cell_type": "code",
   "execution_count": 1,
   "id": "9e2ebd8b",
   "metadata": {},
   "outputs": [],
   "source": [
    "import numpy as np   \n",
    "import pandas as pd    \n",
    "import matplotlib.pyplot as plt \n",
    "import seaborn as sns\n",
    "from sklearn.model_selection import train_test_split \n",
    "from sklearn.linear_model import LinearRegression"
   ]
  },
  {
   "cell_type": "code",
   "execution_count": 2,
   "id": "11774c7e",
   "metadata": {},
   "outputs": [],
   "source": [
    "df = pd.read_csv('data.csv')"
   ]
  },
  {
   "cell_type": "code",
   "execution_count": 3,
   "id": "a5b26eea",
   "metadata": {},
   "outputs": [
    {
     "data": {
      "text/html": [
       "<div>\n",
       "<style scoped>\n",
       "    .dataframe tbody tr th:only-of-type {\n",
       "        vertical-align: middle;\n",
       "    }\n",
       "\n",
       "    .dataframe tbody tr th {\n",
       "        vertical-align: top;\n",
       "    }\n",
       "\n",
       "    .dataframe thead th {\n",
       "        text-align: right;\n",
       "    }\n",
       "</style>\n",
       "<table border=\"1\" class=\"dataframe\">\n",
       "  <thead>\n",
       "    <tr style=\"text-align: right;\">\n",
       "      <th></th>\n",
       "      <th>origin</th>\n",
       "      <th>cylinders</th>\n",
       "      <th>displacement</th>\n",
       "      <th>horsepower</th>\n",
       "      <th>weight</th>\n",
       "      <th>acceleration</th>\n",
       "      <th>year</th>\n",
       "      <th>name</th>\n",
       "      <th>Kilometer_per_liter</th>\n",
       "    </tr>\n",
       "  </thead>\n",
       "  <tbody>\n",
       "    <tr>\n",
       "      <th>0</th>\n",
       "      <td>1</td>\n",
       "      <td>8</td>\n",
       "      <td>307.0</td>\n",
       "      <td>130</td>\n",
       "      <td>3504</td>\n",
       "      <td>12.0</td>\n",
       "      <td>1970</td>\n",
       "      <td>chevrolet chevelle malibu</td>\n",
       "      <td>7.652587</td>\n",
       "    </tr>\n",
       "    <tr>\n",
       "      <th>1</th>\n",
       "      <td>1</td>\n",
       "      <td>8</td>\n",
       "      <td>350.0</td>\n",
       "      <td>165</td>\n",
       "      <td>3693</td>\n",
       "      <td>11.5</td>\n",
       "      <td>1970</td>\n",
       "      <td>buick skylark 320</td>\n",
       "      <td>6.377156</td>\n",
       "    </tr>\n",
       "    <tr>\n",
       "      <th>2</th>\n",
       "      <td>1</td>\n",
       "      <td>8</td>\n",
       "      <td>318.0</td>\n",
       "      <td>150</td>\n",
       "      <td>3436</td>\n",
       "      <td>11.0</td>\n",
       "      <td>1970</td>\n",
       "      <td>plymouth satellite</td>\n",
       "      <td>7.652587</td>\n",
       "    </tr>\n",
       "    <tr>\n",
       "      <th>3</th>\n",
       "      <td>1</td>\n",
       "      <td>8</td>\n",
       "      <td>304.0</td>\n",
       "      <td>150</td>\n",
       "      <td>3433</td>\n",
       "      <td>12.0</td>\n",
       "      <td>1970</td>\n",
       "      <td>amc rebel sst</td>\n",
       "      <td>6.802299</td>\n",
       "    </tr>\n",
       "    <tr>\n",
       "      <th>4</th>\n",
       "      <td>1</td>\n",
       "      <td>8</td>\n",
       "      <td>302.0</td>\n",
       "      <td>140</td>\n",
       "      <td>3449</td>\n",
       "      <td>10.5</td>\n",
       "      <td>1970</td>\n",
       "      <td>ford torino</td>\n",
       "      <td>7.227443</td>\n",
       "    </tr>\n",
       "  </tbody>\n",
       "</table>\n",
       "</div>"
      ],
      "text/plain": [
       "   origin  cylinders  displacement horsepower  weight  acceleration  year  \\\n",
       "0       1          8         307.0        130    3504          12.0  1970   \n",
       "1       1          8         350.0        165    3693          11.5  1970   \n",
       "2       1          8         318.0        150    3436          11.0  1970   \n",
       "3       1          8         304.0        150    3433          12.0  1970   \n",
       "4       1          8         302.0        140    3449          10.5  1970   \n",
       "\n",
       "                        name  Kilometer_per_liter  \n",
       "0  chevrolet chevelle malibu             7.652587  \n",
       "1          buick skylark 320             6.377156  \n",
       "2         plymouth satellite             7.652587  \n",
       "3              amc rebel sst             6.802299  \n",
       "4                ford torino             7.227443  "
      ]
     },
     "execution_count": 3,
     "metadata": {},
     "output_type": "execute_result"
    }
   ],
   "source": [
    "df.head()"
   ]
  },
  {
   "cell_type": "code",
   "execution_count": 4,
   "id": "8967aa97",
   "metadata": {},
   "outputs": [],
   "source": [
    "# dependent variable mileage i.e kilometre travelled per litre"
   ]
  },
  {
   "cell_type": "code",
   "execution_count": 5,
   "id": "ccf750e0",
   "metadata": {},
   "outputs": [
    {
     "data": {
      "text/plain": [
       "1    249\n",
       "3     79\n",
       "2     70\n",
       "Name: origin, dtype: int64"
      ]
     },
     "execution_count": 5,
     "metadata": {},
     "output_type": "execute_result"
    }
   ],
   "source": [
    "df.origin.value_counts()"
   ]
  },
  {
   "cell_type": "code",
   "execution_count": 6,
   "id": "8f916236",
   "metadata": {},
   "outputs": [],
   "source": [
    "# origin is basically a categorical data\n",
    "df.origin = df.origin.astype('object')"
   ]
  },
  {
   "cell_type": "code",
   "execution_count": 7,
   "id": "10a5ff36",
   "metadata": {},
   "outputs": [
    {
     "data": {
      "text/html": [
       "<div>\n",
       "<style scoped>\n",
       "    .dataframe tbody tr th:only-of-type {\n",
       "        vertical-align: middle;\n",
       "    }\n",
       "\n",
       "    .dataframe tbody tr th {\n",
       "        vertical-align: top;\n",
       "    }\n",
       "\n",
       "    .dataframe thead th {\n",
       "        text-align: right;\n",
       "    }\n",
       "</style>\n",
       "<table border=\"1\" class=\"dataframe\">\n",
       "  <thead>\n",
       "    <tr style=\"text-align: right;\">\n",
       "      <th></th>\n",
       "      <th>origin</th>\n",
       "      <th>cylinders</th>\n",
       "      <th>displacement</th>\n",
       "      <th>horsepower</th>\n",
       "      <th>weight</th>\n",
       "      <th>acceleration</th>\n",
       "      <th>year</th>\n",
       "      <th>Kilometer_per_liter</th>\n",
       "      <th>manufacturer</th>\n",
       "      <th>model</th>\n",
       "    </tr>\n",
       "  </thead>\n",
       "  <tbody>\n",
       "    <tr>\n",
       "      <th>0</th>\n",
       "      <td>1</td>\n",
       "      <td>8</td>\n",
       "      <td>307.0</td>\n",
       "      <td>130</td>\n",
       "      <td>3504</td>\n",
       "      <td>12.0</td>\n",
       "      <td>1970</td>\n",
       "      <td>7.652587</td>\n",
       "      <td>chevrolet</td>\n",
       "      <td>chevelle malibu</td>\n",
       "    </tr>\n",
       "    <tr>\n",
       "      <th>1</th>\n",
       "      <td>1</td>\n",
       "      <td>8</td>\n",
       "      <td>350.0</td>\n",
       "      <td>165</td>\n",
       "      <td>3693</td>\n",
       "      <td>11.5</td>\n",
       "      <td>1970</td>\n",
       "      <td>6.377156</td>\n",
       "      <td>buick</td>\n",
       "      <td>skylark 320</td>\n",
       "    </tr>\n",
       "    <tr>\n",
       "      <th>2</th>\n",
       "      <td>1</td>\n",
       "      <td>8</td>\n",
       "      <td>318.0</td>\n",
       "      <td>150</td>\n",
       "      <td>3436</td>\n",
       "      <td>11.0</td>\n",
       "      <td>1970</td>\n",
       "      <td>7.652587</td>\n",
       "      <td>plymouth</td>\n",
       "      <td>satellite</td>\n",
       "    </tr>\n",
       "    <tr>\n",
       "      <th>3</th>\n",
       "      <td>1</td>\n",
       "      <td>8</td>\n",
       "      <td>304.0</td>\n",
       "      <td>150</td>\n",
       "      <td>3433</td>\n",
       "      <td>12.0</td>\n",
       "      <td>1970</td>\n",
       "      <td>6.802299</td>\n",
       "      <td>amc</td>\n",
       "      <td>rebel sst</td>\n",
       "    </tr>\n",
       "    <tr>\n",
       "      <th>4</th>\n",
       "      <td>1</td>\n",
       "      <td>8</td>\n",
       "      <td>302.0</td>\n",
       "      <td>140</td>\n",
       "      <td>3449</td>\n",
       "      <td>10.5</td>\n",
       "      <td>1970</td>\n",
       "      <td>7.227443</td>\n",
       "      <td>ford</td>\n",
       "      <td>torino</td>\n",
       "    </tr>\n",
       "    <tr>\n",
       "      <th>...</th>\n",
       "      <td>...</td>\n",
       "      <td>...</td>\n",
       "      <td>...</td>\n",
       "      <td>...</td>\n",
       "      <td>...</td>\n",
       "      <td>...</td>\n",
       "      <td>...</td>\n",
       "      <td>...</td>\n",
       "      <td>...</td>\n",
       "      <td>...</td>\n",
       "    </tr>\n",
       "    <tr>\n",
       "      <th>393</th>\n",
       "      <td>1</td>\n",
       "      <td>4</td>\n",
       "      <td>140.0</td>\n",
       "      <td>86</td>\n",
       "      <td>2790</td>\n",
       "      <td>15.6</td>\n",
       "      <td>1982</td>\n",
       "      <td>11.478880</td>\n",
       "      <td>ford</td>\n",
       "      <td>mustang gl</td>\n",
       "    </tr>\n",
       "    <tr>\n",
       "      <th>394</th>\n",
       "      <td>2</td>\n",
       "      <td>4</td>\n",
       "      <td>97.0</td>\n",
       "      <td>52</td>\n",
       "      <td>2130</td>\n",
       "      <td>24.6</td>\n",
       "      <td>1982</td>\n",
       "      <td>18.706323</td>\n",
       "      <td>vw</td>\n",
       "      <td>pickup</td>\n",
       "    </tr>\n",
       "    <tr>\n",
       "      <th>395</th>\n",
       "      <td>1</td>\n",
       "      <td>4</td>\n",
       "      <td>135.0</td>\n",
       "      <td>84</td>\n",
       "      <td>2295</td>\n",
       "      <td>11.6</td>\n",
       "      <td>1982</td>\n",
       "      <td>13.604599</td>\n",
       "      <td>dodge</td>\n",
       "      <td>rampage</td>\n",
       "    </tr>\n",
       "    <tr>\n",
       "      <th>396</th>\n",
       "      <td>1</td>\n",
       "      <td>4</td>\n",
       "      <td>120.0</td>\n",
       "      <td>79</td>\n",
       "      <td>2625</td>\n",
       "      <td>18.6</td>\n",
       "      <td>1982</td>\n",
       "      <td>11.904024</td>\n",
       "      <td>ford</td>\n",
       "      <td>ranger</td>\n",
       "    </tr>\n",
       "    <tr>\n",
       "      <th>397</th>\n",
       "      <td>1</td>\n",
       "      <td>4</td>\n",
       "      <td>119.0</td>\n",
       "      <td>82</td>\n",
       "      <td>2720</td>\n",
       "      <td>19.4</td>\n",
       "      <td>1982</td>\n",
       "      <td>13.179455</td>\n",
       "      <td>chevy</td>\n",
       "      <td>s-10</td>\n",
       "    </tr>\n",
       "  </tbody>\n",
       "</table>\n",
       "<p>398 rows × 10 columns</p>\n",
       "</div>"
      ],
      "text/plain": [
       "    origin  cylinders  displacement horsepower  weight  acceleration  year  \\\n",
       "0        1          8         307.0        130    3504          12.0  1970   \n",
       "1        1          8         350.0        165    3693          11.5  1970   \n",
       "2        1          8         318.0        150    3436          11.0  1970   \n",
       "3        1          8         304.0        150    3433          12.0  1970   \n",
       "4        1          8         302.0        140    3449          10.5  1970   \n",
       "..     ...        ...           ...        ...     ...           ...   ...   \n",
       "393      1          4         140.0         86    2790          15.6  1982   \n",
       "394      2          4          97.0         52    2130          24.6  1982   \n",
       "395      1          4         135.0         84    2295          11.6  1982   \n",
       "396      1          4         120.0         79    2625          18.6  1982   \n",
       "397      1          4         119.0         82    2720          19.4  1982   \n",
       "\n",
       "     Kilometer_per_liter manufacturer            model  \n",
       "0               7.652587    chevrolet  chevelle malibu  \n",
       "1               6.377156        buick      skylark 320  \n",
       "2               7.652587     plymouth        satellite  \n",
       "3               6.802299          amc        rebel sst  \n",
       "4               7.227443         ford           torino  \n",
       "..                   ...          ...              ...  \n",
       "393            11.478880         ford       mustang gl  \n",
       "394            18.706323           vw           pickup  \n",
       "395            13.604599        dodge          rampage  \n",
       "396            11.904024         ford           ranger  \n",
       "397            13.179455        chevy             s-10  \n",
       "\n",
       "[398 rows x 10 columns]"
      ]
     },
     "execution_count": 7,
     "metadata": {},
     "output_type": "execute_result"
    }
   ],
   "source": [
    "df[[\"manufacturer\",\"model\"]] = df.name.str.split(\" \", n = 1 , expand = True)\n",
    "df.drop(\"name\",axis = 1,inplace= True)\n",
    "df"
   ]
  },
  {
   "cell_type": "code",
   "execution_count": 10,
   "id": "84d3c662",
   "metadata": {},
   "outputs": [],
   "source": [
    "correction = {\"chevy\":\"chevrolet\",\n",
    "             \"toyouta\":\"toyota\",\n",
    "             \"maxda\":\"mazda\",\n",
    "             \"chevroelt\":\"chevrolet\",\n",
    "             \"vw\":\"volkswagen\",\n",
    "             \"mercedes-benz\":\"mercedes\",\n",
    "             \"vokswagen\":\"volkswagen\"}\n"
   ]
  },
  {
   "cell_type": "code",
   "execution_count": 12,
   "id": "ae71457a",
   "metadata": {},
   "outputs": [
    {
     "data": {
      "text/plain": [
       "dict_values(['chevrolet', 'toyota', 'mazda', 'chevrolet', 'volkswagen', 'mercedes', 'volkswagen'])"
      ]
     },
     "execution_count": 12,
     "metadata": {},
     "output_type": "execute_result"
    }
   ],
   "source": [
    "correction.values()"
   ]
  },
  {
   "cell_type": "code",
   "execution_count": 13,
   "id": "d1e72150",
   "metadata": {},
   "outputs": [],
   "source": [
    "df.manufacturer.replace(['chevy', 'toyouta', 'maxda', 'chevroelt', 'vw', 'mercedes-benz', 'vokswagen'],['chevrolet', 'toyota', 'mazda', 'chevrolet', 'volkswagen', 'mercedes', 'volkswagen'], inplace= True)"
   ]
  },
  {
   "cell_type": "code",
   "execution_count": 14,
   "id": "ef076b56",
   "metadata": {},
   "outputs": [
    {
     "data": {
      "text/plain": [
       "array(['amc', 'audi', 'bmw', 'buick', 'cadillac', 'capri', 'chevrolet',\n",
       "       'chrysler', 'datsun', 'dodge', 'fiat', 'ford', 'hi', 'honda',\n",
       "       'mazda', 'mercedes', 'mercury', 'nissan', 'oldsmobile', 'opel',\n",
       "       'peugeot', 'plymouth', 'pontiac', 'renault', 'saab', 'subaru',\n",
       "       'toyota', 'triumph', 'volkswagen', 'volvo'], dtype=object)"
      ]
     },
     "execution_count": 14,
     "metadata": {},
     "output_type": "execute_result"
    }
   ],
   "source": [
    "np.unique(df.manufacturer)"
   ]
  },
  {
   "cell_type": "code",
   "execution_count": 15,
   "id": "1e75e181",
   "metadata": {},
   "outputs": [
    {
     "data": {
      "text/plain": [
       "pinto            6\n",
       "corolla          5\n",
       "rabbit           5\n",
       "maverick         5\n",
       "matador          5\n",
       "                ..\n",
       "zephyr 6         1\n",
       "d100             1\n",
       "280s             1\n",
       "310 gx           1\n",
       "sunbird coupe    1\n",
       "Name: model, Length: 299, dtype: int64"
      ]
     },
     "execution_count": 15,
     "metadata": {},
     "output_type": "execute_result"
    }
   ],
   "source": [
    "df.model.value_counts()"
   ]
  },
  {
   "cell_type": "code",
   "execution_count": null,
   "id": "d7552d22",
   "metadata": {},
   "outputs": [],
   "source": [
    "# model has 299 unique values. \n",
    "# we can drop this feature"
   ]
  },
  {
   "cell_type": "code",
   "execution_count": 16,
   "id": "20804432",
   "metadata": {},
   "outputs": [],
   "source": [
    "df.drop(columns = 'model', axis = 1, inplace= True)"
   ]
  },
  {
   "cell_type": "code",
   "execution_count": null,
   "id": "cd57dce7",
   "metadata": {},
   "outputs": [],
   "source": [
    "df.dtypes"
   ]
  },
  {
   "cell_type": "code",
   "execution_count": null,
   "id": "f20fe19d",
   "metadata": {},
   "outputs": [],
   "source": [
    "df.name.head()"
   ]
  },
  {
   "cell_type": "code",
   "execution_count": null,
   "id": "21006ad4",
   "metadata": {},
   "outputs": [],
   "source": [
    "df.isnull().sum()"
   ]
  },
  {
   "cell_type": "code",
   "execution_count": null,
   "id": "dffcaed5",
   "metadata": {},
   "outputs": [],
   "source": [
    "# seems like no missing value"
   ]
  },
  {
   "cell_type": "code",
   "execution_count": null,
   "id": "7150ea96",
   "metadata": {},
   "outputs": [],
   "source": [
    "df.horsepower = df.horsepower.astype('float')"
   ]
  },
  {
   "cell_type": "code",
   "execution_count": null,
   "id": "70e2e2ba",
   "metadata": {},
   "outputs": [],
   "source": [
    "# could not convert string to float: '?'\n",
    "# This means there are '?' in horsepower column. \n",
    "# we need to replace '?' with mean or median and to do so, first change '?' to nan"
   ]
  },
  {
   "cell_type": "code",
   "execution_count": 17,
   "id": "b1284688",
   "metadata": {},
   "outputs": [],
   "source": [
    "df.horsepower.replace('?', np.nan, inplace= True)"
   ]
  },
  {
   "cell_type": "code",
   "execution_count": 18,
   "id": "f79fc24f",
   "metadata": {},
   "outputs": [
    {
     "data": {
      "text/plain": [
       "6"
      ]
     },
     "execution_count": 18,
     "metadata": {},
     "output_type": "execute_result"
    }
   ],
   "source": [
    "df.horsepower.isnull().sum()"
   ]
  },
  {
   "cell_type": "code",
   "execution_count": 19,
   "id": "e0573348",
   "metadata": {},
   "outputs": [],
   "source": [
    "df.horsepower.fillna(df.horsepower.median(), inplace= True)\n",
    "#df.horsepower.fillna(df.horsepower.mean(), inplace= True)"
   ]
  },
  {
   "cell_type": "code",
   "execution_count": null,
   "id": "9d1798f8",
   "metadata": {},
   "outputs": [],
   "source": [
    "df.horsepower.isnull().sum()"
   ]
  },
  {
   "cell_type": "code",
   "execution_count": 20,
   "id": "5a4f2e3b",
   "metadata": {},
   "outputs": [],
   "source": [
    "df.horsepower = df.horsepower.astype('float64')"
   ]
  },
  {
   "cell_type": "code",
   "execution_count": 21,
   "id": "aa89aa98",
   "metadata": {},
   "outputs": [
    {
     "data": {
      "text/plain": [
       "origin                  object\n",
       "cylinders                int64\n",
       "displacement           float64\n",
       "horsepower             float64\n",
       "weight                   int64\n",
       "acceleration           float64\n",
       "year                     int64\n",
       "Kilometer_per_liter    float64\n",
       "manufacturer            object\n",
       "dtype: object"
      ]
     },
     "execution_count": 21,
     "metadata": {},
     "output_type": "execute_result"
    }
   ],
   "source": [
    "df.dtypes"
   ]
  },
  {
   "cell_type": "code",
   "execution_count": null,
   "id": "48152681",
   "metadata": {},
   "outputs": [],
   "source": [
    "# Let us check all the features for presence of any missing value like '?'"
   ]
  },
  {
   "cell_type": "code",
   "execution_count": null,
   "id": "b0580bad",
   "metadata": {},
   "outputs": [],
   "source": [
    "df.cylinders.value_counts()"
   ]
  },
  {
   "cell_type": "code",
   "execution_count": null,
   "id": "28e634d8",
   "metadata": {},
   "outputs": [],
   "source": [
    "df.displacement.value_counts()"
   ]
  },
  {
   "cell_type": "code",
   "execution_count": null,
   "id": "6679d644",
   "metadata": {},
   "outputs": [],
   "source": [
    "df.year.value_counts()"
   ]
  },
  {
   "cell_type": "code",
   "execution_count": null,
   "id": "44d7187b",
   "metadata": {},
   "outputs": [],
   "source": [
    "df.weight.value_counts()"
   ]
  },
  {
   "cell_type": "code",
   "execution_count": null,
   "id": "d80de269",
   "metadata": {},
   "outputs": [],
   "source": [
    "# So we could see All missing values have been handled "
   ]
  },
  {
   "cell_type": "markdown",
   "id": "c2c9e84a",
   "metadata": {},
   "source": [
    "### EDA"
   ]
  },
  {
   "cell_type": "code",
   "execution_count": null,
   "id": "368b16c6",
   "metadata": {},
   "outputs": [],
   "source": [
    "df.info()"
   ]
  },
  {
   "cell_type": "code",
   "execution_count": null,
   "id": "d820e7cc",
   "metadata": {},
   "outputs": [],
   "source": [
    "df.describe()"
   ]
  },
  {
   "cell_type": "code",
   "execution_count": null,
   "id": "8c393ba8",
   "metadata": {},
   "outputs": [],
   "source": [
    "df.describe(include='object')"
   ]
  },
  {
   "cell_type": "code",
   "execution_count": null,
   "id": "d47cc009",
   "metadata": {},
   "outputs": [],
   "source": [
    "sns.countplot(x=df.origin)"
   ]
  },
  {
   "cell_type": "code",
   "execution_count": null,
   "id": "d10878a2",
   "metadata": {},
   "outputs": [],
   "source": [
    "sns.boxplot(x = df.origin, y= df.Kilometer_per_liter)"
   ]
  },
  {
   "cell_type": "code",
   "execution_count": null,
   "id": "36f28452",
   "metadata": {},
   "outputs": [],
   "source": [
    "sns.heatmap(data = df.corr(), annot=True)"
   ]
  },
  {
   "cell_type": "raw",
   "id": "8d6ea979",
   "metadata": {},
   "source": [
    "# cylinders vs displacement - 0.95\n",
    "# cylinders vs horsepower - 0.9\n",
    "# displacement vs horsepower - 0.9\n",
    "# displacement vs weight - 0.93\n",
    "\n",
    "We can see high multicolinearity between independent variables.\n",
    "We can decide which to drop, so that model performs better\n",
    "\n",
    "Case 1:\n",
    "    let us not drop these columns\n",
    "    find the rscore\n",
    "    find the rmse\n",
    "\n",
    "Case 2:\n",
    "    let us drop these columns\n",
    "    find the rscore\n",
    "    find the rmse"
   ]
  },
  {
   "cell_type": "code",
   "execution_count": null,
   "id": "82ea9406",
   "metadata": {},
   "outputs": [],
   "source": [
    "df_modified = df.drop(columns=['cylinders','displacement','weight'], axis = 1)\n",
    "sns.heatmap(data = df_modified.corr(), annot = True)"
   ]
  },
  {
   "cell_type": "markdown",
   "id": "2e2c0278",
   "metadata": {},
   "source": [
    "#### df_modified dataset is producing lesser score than df dataset.\n",
    "#### sticking to df dataset is prefered."
   ]
  },
  {
   "cell_type": "code",
   "execution_count": null,
   "id": "57442b0f",
   "metadata": {},
   "outputs": [],
   "source": [
    "df_num = df.drop(columns= 'origin', axis = 1)"
   ]
  },
  {
   "cell_type": "code",
   "execution_count": null,
   "id": "1030ced7",
   "metadata": {},
   "outputs": [],
   "source": [
    "sns.pairplot(data= df_num, kind = 'reg' )"
   ]
  },
  {
   "cell_type": "code",
   "execution_count": null,
   "id": "b97e105d",
   "metadata": {},
   "outputs": [],
   "source": [
    "# we can see instead of fitting with a straight line, a curve seems to best fit the relation between \n",
    "# kilometer_per_liter - Weight, horsepower, displacement"
   ]
  },
  {
   "cell_type": "code",
   "execution_count": null,
   "id": "92b0ca39",
   "metadata": {},
   "outputs": [],
   "source": [
    "df.Kilometer_per_liter.hist()"
   ]
  },
  {
   "cell_type": "code",
   "execution_count": null,
   "id": "5cb9a87a",
   "metadata": {},
   "outputs": [],
   "source": [
    "# Seems like an imbalanced data\n",
    "# let us try with logfunction"
   ]
  },
  {
   "cell_type": "code",
   "execution_count": 25,
   "id": "5c909578",
   "metadata": {},
   "outputs": [],
   "source": [
    "log_kmpl = np.log(df.Kilometer_per_liter)"
   ]
  },
  {
   "cell_type": "code",
   "execution_count": null,
   "id": "8ef8987a",
   "metadata": {},
   "outputs": [],
   "source": [
    "log_kmpl.hist()"
   ]
  },
  {
   "cell_type": "code",
   "execution_count": null,
   "id": "c05b8a5a",
   "metadata": {},
   "outputs": [],
   "source": [
    "# More balanced, so let us use log_kmpl in model"
   ]
  },
  {
   "cell_type": "code",
   "execution_count": 22,
   "id": "413b1e25",
   "metadata": {},
   "outputs": [],
   "source": [
    "df = pd.get_dummies(columns = ['origin', 'manufacturer'], data = df)"
   ]
  },
  {
   "cell_type": "code",
   "execution_count": 68,
   "id": "bdaeb238",
   "metadata": {},
   "outputs": [],
   "source": [
    "df['log_kilo'] = np.log(df.Kilometer_per_liter)"
   ]
  },
  {
   "cell_type": "code",
   "execution_count": 69,
   "id": "a348aac2",
   "metadata": {},
   "outputs": [
    {
     "data": {
      "text/html": [
       "<div>\n",
       "<style scoped>\n",
       "    .dataframe tbody tr th:only-of-type {\n",
       "        vertical-align: middle;\n",
       "    }\n",
       "\n",
       "    .dataframe tbody tr th {\n",
       "        vertical-align: top;\n",
       "    }\n",
       "\n",
       "    .dataframe thead th {\n",
       "        text-align: right;\n",
       "    }\n",
       "</style>\n",
       "<table border=\"1\" class=\"dataframe\">\n",
       "  <thead>\n",
       "    <tr style=\"text-align: right;\">\n",
       "      <th></th>\n",
       "      <th>cylinders</th>\n",
       "      <th>displacement</th>\n",
       "      <th>horsepower</th>\n",
       "      <th>weight</th>\n",
       "      <th>acceleration</th>\n",
       "      <th>year</th>\n",
       "      <th>Kilometer_per_liter</th>\n",
       "      <th>origin_1</th>\n",
       "      <th>origin_2</th>\n",
       "      <th>origin_3</th>\n",
       "      <th>...</th>\n",
       "      <th>manufacturer_plymouth</th>\n",
       "      <th>manufacturer_pontiac</th>\n",
       "      <th>manufacturer_renault</th>\n",
       "      <th>manufacturer_saab</th>\n",
       "      <th>manufacturer_subaru</th>\n",
       "      <th>manufacturer_toyota</th>\n",
       "      <th>manufacturer_triumph</th>\n",
       "      <th>manufacturer_volkswagen</th>\n",
       "      <th>manufacturer_volvo</th>\n",
       "      <th>log_kilo</th>\n",
       "    </tr>\n",
       "  </thead>\n",
       "  <tbody>\n",
       "    <tr>\n",
       "      <th>0</th>\n",
       "      <td>8</td>\n",
       "      <td>307.0</td>\n",
       "      <td>130.0</td>\n",
       "      <td>3504</td>\n",
       "      <td>12.0</td>\n",
       "      <td>1970</td>\n",
       "      <td>7.652587</td>\n",
       "      <td>1</td>\n",
       "      <td>0</td>\n",
       "      <td>0</td>\n",
       "      <td>...</td>\n",
       "      <td>0</td>\n",
       "      <td>0</td>\n",
       "      <td>0</td>\n",
       "      <td>0</td>\n",
       "      <td>0</td>\n",
       "      <td>0</td>\n",
       "      <td>0</td>\n",
       "      <td>0</td>\n",
       "      <td>0</td>\n",
       "      <td>2.035044</td>\n",
       "    </tr>\n",
       "    <tr>\n",
       "      <th>1</th>\n",
       "      <td>8</td>\n",
       "      <td>350.0</td>\n",
       "      <td>165.0</td>\n",
       "      <td>3693</td>\n",
       "      <td>11.5</td>\n",
       "      <td>1970</td>\n",
       "      <td>6.377156</td>\n",
       "      <td>1</td>\n",
       "      <td>0</td>\n",
       "      <td>0</td>\n",
       "      <td>...</td>\n",
       "      <td>0</td>\n",
       "      <td>0</td>\n",
       "      <td>0</td>\n",
       "      <td>0</td>\n",
       "      <td>0</td>\n",
       "      <td>0</td>\n",
       "      <td>0</td>\n",
       "      <td>0</td>\n",
       "      <td>0</td>\n",
       "      <td>1.852722</td>\n",
       "    </tr>\n",
       "    <tr>\n",
       "      <th>2</th>\n",
       "      <td>8</td>\n",
       "      <td>318.0</td>\n",
       "      <td>150.0</td>\n",
       "      <td>3436</td>\n",
       "      <td>11.0</td>\n",
       "      <td>1970</td>\n",
       "      <td>7.652587</td>\n",
       "      <td>1</td>\n",
       "      <td>0</td>\n",
       "      <td>0</td>\n",
       "      <td>...</td>\n",
       "      <td>1</td>\n",
       "      <td>0</td>\n",
       "      <td>0</td>\n",
       "      <td>0</td>\n",
       "      <td>0</td>\n",
       "      <td>0</td>\n",
       "      <td>0</td>\n",
       "      <td>0</td>\n",
       "      <td>0</td>\n",
       "      <td>2.035044</td>\n",
       "    </tr>\n",
       "    <tr>\n",
       "      <th>3</th>\n",
       "      <td>8</td>\n",
       "      <td>304.0</td>\n",
       "      <td>150.0</td>\n",
       "      <td>3433</td>\n",
       "      <td>12.0</td>\n",
       "      <td>1970</td>\n",
       "      <td>6.802299</td>\n",
       "      <td>1</td>\n",
       "      <td>0</td>\n",
       "      <td>0</td>\n",
       "      <td>...</td>\n",
       "      <td>0</td>\n",
       "      <td>0</td>\n",
       "      <td>0</td>\n",
       "      <td>0</td>\n",
       "      <td>0</td>\n",
       "      <td>0</td>\n",
       "      <td>0</td>\n",
       "      <td>0</td>\n",
       "      <td>0</td>\n",
       "      <td>1.917261</td>\n",
       "    </tr>\n",
       "    <tr>\n",
       "      <th>4</th>\n",
       "      <td>8</td>\n",
       "      <td>302.0</td>\n",
       "      <td>140.0</td>\n",
       "      <td>3449</td>\n",
       "      <td>10.5</td>\n",
       "      <td>1970</td>\n",
       "      <td>7.227443</td>\n",
       "      <td>1</td>\n",
       "      <td>0</td>\n",
       "      <td>0</td>\n",
       "      <td>...</td>\n",
       "      <td>0</td>\n",
       "      <td>0</td>\n",
       "      <td>0</td>\n",
       "      <td>0</td>\n",
       "      <td>0</td>\n",
       "      <td>0</td>\n",
       "      <td>0</td>\n",
       "      <td>0</td>\n",
       "      <td>0</td>\n",
       "      <td>1.977885</td>\n",
       "    </tr>\n",
       "  </tbody>\n",
       "</table>\n",
       "<p>5 rows × 41 columns</p>\n",
       "</div>"
      ],
      "text/plain": [
       "   cylinders  displacement  horsepower  weight  acceleration  year  \\\n",
       "0          8         307.0       130.0    3504          12.0  1970   \n",
       "1          8         350.0       165.0    3693          11.5  1970   \n",
       "2          8         318.0       150.0    3436          11.0  1970   \n",
       "3          8         304.0       150.0    3433          12.0  1970   \n",
       "4          8         302.0       140.0    3449          10.5  1970   \n",
       "\n",
       "   Kilometer_per_liter  origin_1  origin_2  origin_3  ...  \\\n",
       "0             7.652587         1         0         0  ...   \n",
       "1             6.377156         1         0         0  ...   \n",
       "2             7.652587         1         0         0  ...   \n",
       "3             6.802299         1         0         0  ...   \n",
       "4             7.227443         1         0         0  ...   \n",
       "\n",
       "   manufacturer_plymouth  manufacturer_pontiac  manufacturer_renault  \\\n",
       "0                      0                     0                     0   \n",
       "1                      0                     0                     0   \n",
       "2                      1                     0                     0   \n",
       "3                      0                     0                     0   \n",
       "4                      0                     0                     0   \n",
       "\n",
       "   manufacturer_saab  manufacturer_subaru  manufacturer_toyota  \\\n",
       "0                  0                    0                    0   \n",
       "1                  0                    0                    0   \n",
       "2                  0                    0                    0   \n",
       "3                  0                    0                    0   \n",
       "4                  0                    0                    0   \n",
       "\n",
       "   manufacturer_triumph  manufacturer_volkswagen  manufacturer_volvo  log_kilo  \n",
       "0                     0                        0                   0  2.035044  \n",
       "1                     0                        0                   0  1.852722  \n",
       "2                     0                        0                   0  2.035044  \n",
       "3                     0                        0                   0  1.917261  \n",
       "4                     0                        0                   0  1.977885  \n",
       "\n",
       "[5 rows x 41 columns]"
      ]
     },
     "execution_count": 69,
     "metadata": {},
     "output_type": "execute_result"
    }
   ],
   "source": [
    "df.head()"
   ]
  },
  {
   "cell_type": "markdown",
   "id": "c3439a9a",
   "metadata": {},
   "source": [
    "### Modeling"
   ]
  },
  {
   "cell_type": "code",
   "execution_count": 129,
   "id": "329288b1",
   "metadata": {},
   "outputs": [],
   "source": [
    "x = df.drop(columns= 'Kilometer_per_liter', axis = 1)\n",
    "y = df.Kilometer_per_liter"
   ]
  },
  {
   "cell_type": "code",
   "execution_count": 130,
   "id": "efa3fc32",
   "metadata": {},
   "outputs": [],
   "source": [
    "model = LinearRegression()"
   ]
  },
  {
   "cell_type": "code",
   "execution_count": 131,
   "id": "120f86e4",
   "metadata": {},
   "outputs": [],
   "source": [
    "x_train, x_test, y_train, y_test = train_test_split(x, y, random_state=0, test_size= 0.3)"
   ]
  },
  {
   "cell_type": "code",
   "execution_count": 132,
   "id": "e8352ff6",
   "metadata": {},
   "outputs": [
    {
     "data": {
      "text/plain": [
       "LinearRegression()"
      ]
     },
     "execution_count": 132,
     "metadata": {},
     "output_type": "execute_result"
    }
   ],
   "source": [
    "model.fit(x_train, y_train)"
   ]
  },
  {
   "cell_type": "code",
   "execution_count": 133,
   "id": "5f5a6cf0",
   "metadata": {},
   "outputs": [
    {
     "data": {
      "text/plain": [
       "0.9812732391750811"
      ]
     },
     "execution_count": 133,
     "metadata": {},
     "output_type": "execute_result"
    }
   ],
   "source": [
    "model.score(x_train, y_train)"
   ]
  },
  {
   "cell_type": "code",
   "execution_count": 134,
   "id": "0a189cea",
   "metadata": {},
   "outputs": [
    {
     "data": {
      "text/plain": [
       "0.9764071925998731"
      ]
     },
     "execution_count": 134,
     "metadata": {},
     "output_type": "execute_result"
    }
   ],
   "source": [
    "model.score(x_test, y_test)"
   ]
  },
  {
   "cell_type": "raw",
   "id": "5515e0fe",
   "metadata": {},
   "source": [
    "using Kilometer_per_liter\n",
    "random_state=0, test_size= 0.3\n",
    "train score 0.9812732391750811\n",
    "test score 0.9764071925998731"
   ]
  },
  {
   "cell_type": "raw",
   "id": "8e0d1035",
   "metadata": {},
   "source": [
    "using log_kilo\n",
    "random_state=0, test_size= 0.3\n",
    "train score 0.9875499902032844\n",
    "test score 0.9847266332296644"
   ]
  },
  {
   "cell_type": "code",
   "execution_count": 66,
   "id": "998fbca7",
   "metadata": {},
   "outputs": [],
   "source": [
    "#### Polynomial curve\n"
   ]
  },
  {
   "cell_type": "code",
   "execution_count": 135,
   "id": "be978a11",
   "metadata": {},
   "outputs": [
    {
     "name": "stdout",
     "output_type": "stream",
     "text": [
      "0.9997631753926973\n",
      "-0.3748014452348869\n"
     ]
    }
   ],
   "source": [
    "# let us try to fit a polynomial curve \n",
    "from sklearn.preprocessing import PolynomialFeatures\n",
    "from sklearn import linear_model\n",
    "\n",
    "poly = PolynomialFeatures(degree=2, interaction_only=True)\n",
    "\n",
    "x_train2 = poly.fit_transform(x_train)\n",
    "x_test2 = poly.fit_transform(x_test)\n",
    "\n",
    "poly_clf = linear_model.LinearRegression()\n",
    "\n",
    "poly_clf.fit(x_train2, y_train)\n",
    "\n",
    "y_pred = poly_clf.predict(x_test2)\n",
    "\n",
    "#print(y_pred)\n",
    "\n",
    "#In sample (training) R^2 will always improve with the number of variables!\n",
    "print(poly_clf.score(x_train2, y_train))\n",
    "print(poly_clf.score(x_test2, y_test))"
   ]
  },
  {
   "cell_type": "raw",
   "id": "13fb1c88",
   "metadata": {},
   "source": [
    "Polynomial Curve\n",
    "using Kilometer_per_liter\n",
    "train score 0.0.9998619812963035\n",
    "test score -0.3748014452348869"
   ]
  },
  {
   "cell_type": "raw",
   "id": "35646971",
   "metadata": {},
   "source": [
    "Polynomial Curve\n",
    "using log_kilo\n",
    "train score 0.9998619812963035\n",
    "test score 0.5779200905611344\n"
   ]
  },
  {
   "cell_type": "code",
   "execution_count": null,
   "id": "1234ed6e",
   "metadata": {},
   "outputs": [],
   "source": []
  }
 ],
 "metadata": {
  "kernelspec": {
   "display_name": "Python 3",
   "language": "python",
   "name": "python3"
  },
  "language_info": {
   "codemirror_mode": {
    "name": "ipython",
    "version": 3
   },
   "file_extension": ".py",
   "mimetype": "text/x-python",
   "name": "python",
   "nbconvert_exporter": "python",
   "pygments_lexer": "ipython3",
   "version": "3.8.8"
  }
 },
 "nbformat": 4,
 "nbformat_minor": 5
}
